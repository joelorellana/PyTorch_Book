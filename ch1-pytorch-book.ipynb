{
 "cells": [
  {
   "cell_type": "code",
   "execution_count": 1,
   "id": "c207cd0d",
   "metadata": {
    "execution": {
     "iopub.execute_input": "2023-11-24T15:55:01.571634Z",
     "iopub.status.busy": "2023-11-24T15:55:01.570671Z",
     "iopub.status.idle": "2023-11-24T15:55:07.752285Z",
     "shell.execute_reply": "2023-11-24T15:55:07.751248Z"
    },
    "papermill": {
     "duration": 6.188581,
     "end_time": "2023-11-24T15:55:07.754703",
     "exception": false,
     "start_time": "2023-11-24T15:55:01.566122",
     "status": "completed"
    },
    "tags": []
   },
   "outputs": [],
   "source": [
    "import torch"
   ]
  },
  {
   "cell_type": "code",
   "execution_count": 2,
   "id": "3dd87797",
   "metadata": {
    "execution": {
     "iopub.execute_input": "2023-11-24T15:55:07.760325Z",
     "iopub.status.busy": "2023-11-24T15:55:07.759614Z",
     "iopub.status.idle": "2023-11-24T15:55:07.864994Z",
     "shell.execute_reply": "2023-11-24T15:55:07.863969Z"
    },
    "papermill": {
     "duration": 0.110096,
     "end_time": "2023-11-24T15:55:07.867062",
     "exception": false,
     "start_time": "2023-11-24T15:55:07.756966",
     "status": "completed"
    },
    "tags": []
   },
   "outputs": [
    {
     "data": {
      "text/plain": [
       "True"
      ]
     },
     "execution_count": 2,
     "metadata": {},
     "output_type": "execute_result"
    }
   ],
   "source": [
    "torch.cuda.is_available()"
   ]
  },
  {
   "cell_type": "code",
   "execution_count": 3,
   "id": "a7fc259c",
   "metadata": {
    "execution": {
     "iopub.execute_input": "2023-11-24T15:55:07.872362Z",
     "iopub.status.busy": "2023-11-24T15:55:07.872015Z",
     "iopub.status.idle": "2023-11-24T15:55:08.887018Z",
     "shell.execute_reply": "2023-11-24T15:55:08.885660Z"
    },
    "papermill": {
     "duration": 1.020303,
     "end_time": "2023-11-24T15:55:08.889482",
     "exception": false,
     "start_time": "2023-11-24T15:55:07.869179",
     "status": "completed"
    },
    "tags": []
   },
   "outputs": [
    {
     "name": "stdout",
     "output_type": "stream",
     "text": [
      "Python 3.10.12\r\n"
     ]
    }
   ],
   "source": [
    "!python --version"
   ]
  }
 ],
 "metadata": {
  "kaggle": {
   "accelerator": "nvidiaTeslaT4",
   "dataSources": [],
   "dockerImageVersionId": 30588,
   "isGpuEnabled": true,
   "isInternetEnabled": true,
   "language": "python",
   "sourceType": "notebook"
  },
  "kernelspec": {
   "display_name": "Python 3",
   "language": "python",
   "name": "python3"
  },
  "language_info": {
   "codemirror_mode": {
    "name": "ipython",
    "version": 3
   },
   "file_extension": ".py",
   "mimetype": "text/x-python",
   "name": "python",
   "nbconvert_exporter": "python",
   "pygments_lexer": "ipython3",
   "version": "3.10.12"
  },
  "papermill": {
   "default_parameters": {},
   "duration": 14.392677,
   "end_time": "2023-11-24T15:55:11.291669",
   "environment_variables": {},
   "exception": null,
   "input_path": "__notebook__.ipynb",
   "output_path": "__notebook__.ipynb",
   "parameters": {},
   "start_time": "2023-11-24T15:54:56.898992",
   "version": "2.4.0"
  }
 },
 "nbformat": 4,
 "nbformat_minor": 5
}
